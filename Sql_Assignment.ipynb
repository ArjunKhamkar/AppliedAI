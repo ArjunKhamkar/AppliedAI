{
 "cells": [
  {
   "cell_type": "markdown",
   "metadata": {},
   "source": [
    "**List all the directors who directed a 'Comedy' movie in a leap year. (You need to check that\n",
    "the genre is 'Comedy’ and year is a leap year) Your query should return director name, the\n",
    "movie name, and the year.**"
   ]
  },
  {
   "cell_type": "markdown",
   "metadata": {},
   "source": [
    "**List the names of all the actors who played in the movie 'Anand' (1971)**"
   ]
  },
  {
   "cell_type": "markdown",
   "metadata": {},
   "source": [
    "**List all the actors who acted in a film before 1970 and in a film after 1990. (That is: < 1970\n",
    "and > 1990.)**"
   ]
  },
  {
   "cell_type": "markdown",
   "metadata": {},
   "source": [
    "**List all directors who directed 10 movies or more, in descending order of the number of\n",
    "movies they directed. Return the directors' names and the number of movies each of them\n",
    "directed.**"
   ]
  },
  {
   "cell_type": "markdown",
   "metadata": {},
   "source": [
    "**a.For each year, count the number of movies in that year that had only female actors.**\n",
    "\n",
    "**b. Now include a small change: report for each year the percentage of movies in that\n",
    "year with only female actors, and the total number of movies made that year. For\n",
    "example, one answer will be: 1990 31.81 13522 meaning that in 1990 there were\n",
    "13,522 movies, and 31.81% had only female actors. You do not need to round your\n",
    "answer.**"
   ]
  },
  {
   "cell_type": "markdown",
   "metadata": {},
   "source": [
    "**Find the film(s) with the largest cast. Return the movie title and the size of the cast. By \"cast\n",
    "size\" we mean the number of distinct actors that played in that movie: if an actor played\n",
    "multiple roles, or if it simply occurs multiple times in casts, we still count her/him only\n",
    "once.**"
   ]
  },
  {
   "cell_type": "markdown",
   "metadata": {},
   "source": [
    "**A decade is a sequence of 10 consecutive years. For example, say in your database you have\n",
    "movie information starting from 1965. Then the first decade is 1965, 1966, ..., 1974; the\n",
    "second one is 1967, 1968, ..., 1976 and so on. Find the decade D with the largest number of\n",
    "films and the total number of films in D.**"
   ]
  },
  {
   "cell_type": "markdown",
   "metadata": {},
   "source": [
    "**Find the actors that were never unemployed for more than 3 years at a stretch. (Assume\n",
    "that the actors remain unemployed between two consecutive movies).**"
   ]
  },
  {
   "cell_type": "markdown",
   "metadata": {},
   "source": [
    "**Find all the actors that made more movies with Yash Chopra than any other director.**"
   ]
  },
  {
   "cell_type": "markdown",
   "metadata": {},
   "source": [
    "**The Shahrukh number of an actor is the length of the shortest path between the actor and\n",
    "Shahrukh Khan in the \"co-acting\" graph. That is, Shahrukh Khan has Shahrukh number 0; all\n",
    "actors who acted in the same film as Shahrukh have Shahrukh number 1; all actors who\n",
    "acted in the same film as some actor with Shahrukh number 1 have Shahrukh number 2, etc.\n",
    "Return all actors whose Shahrukh number is 2.**"
   ]
  }
 ],
 "metadata": {
  "kernelspec": {
   "display_name": "Python 3",
   "language": "python",
   "name": "python3"
  },
  "language_info": {
   "codemirror_mode": {
    "name": "ipython",
    "version": 3
   },
   "file_extension": ".py",
   "mimetype": "text/x-python",
   "name": "python",
   "nbconvert_exporter": "python",
   "pygments_lexer": "ipython3",
   "version": "3.7.1"
  }
 },
 "nbformat": 4,
 "nbformat_minor": 2
}
